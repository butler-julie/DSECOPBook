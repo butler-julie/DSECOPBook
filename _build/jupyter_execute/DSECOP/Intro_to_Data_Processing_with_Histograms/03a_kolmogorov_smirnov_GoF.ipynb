{
 "cells": [
  {
   "cell_type": "code",
   "execution_count": 1,
   "metadata": {
    "colab": {
     "base_uri": "https://localhost:8080/"
    },
    "id": "yZfWcIefb81B",
    "outputId": "12406668-2668-4a02-d89e-f536f9a7c2fa"
   },
   "outputs": [
    {
     "ename": "ModuleNotFoundError",
     "evalue": "No module named 'google'",
     "output_type": "error",
     "traceback": [
      "\u001b[0;31m---------------------------------------------------------------------------\u001b[0m",
      "\u001b[0;31mModuleNotFoundError\u001b[0m                       Traceback (most recent call last)",
      "Cell \u001b[0;32mIn [1], line 6\u001b[0m\n\u001b[1;32m      3\u001b[0m \u001b[38;5;28;01mimport\u001b[39;00m \u001b[38;5;21;01mnumpy\u001b[39;00m \u001b[38;5;28;01mas\u001b[39;00m \u001b[38;5;21;01mnp\u001b[39;00m\n\u001b[1;32m      4\u001b[0m \u001b[38;5;28;01mimport\u001b[39;00m \u001b[38;5;21;01mmatplotlib\u001b[39;00m\u001b[38;5;21;01m.\u001b[39;00m\u001b[38;5;21;01mpyplot\u001b[39;00m \u001b[38;5;28;01mas\u001b[39;00m \u001b[38;5;21;01mplt\u001b[39;00m\n\u001b[0;32m----> 6\u001b[0m \u001b[38;5;28;01mfrom\u001b[39;00m \u001b[38;5;21;01mgoogle\u001b[39;00m\u001b[38;5;21;01m.\u001b[39;00m\u001b[38;5;21;01mcolab\u001b[39;00m \u001b[38;5;28;01mimport\u001b[39;00m drive \n\u001b[1;32m      7\u001b[0m drive\u001b[38;5;241m.\u001b[39mmount(\u001b[38;5;124m\"\u001b[39m\u001b[38;5;124m/content/drive/\u001b[39m\u001b[38;5;124m\"\u001b[39m)\n\u001b[1;32m      9\u001b[0m \u001b[38;5;28;01mimport\u001b[39;00m \u001b[38;5;21;01mos\u001b[39;00m\n",
      "\u001b[0;31mModuleNotFoundError\u001b[0m: No module named 'google'"
     ]
    }
   ],
   "source": [
    "# Here are some necessary packages that we need to import to run this notebook\n",
    "\n",
    "import numpy as np\n",
    "import matplotlib.pyplot as plt\n",
    "\n",
    "from google.colab import drive \n",
    "drive.mount(\"/content/drive/\")\n",
    "\n",
    "import os\n",
    "os.chdir(\"/content/drive/My Drive/DSECOP/Colab Notebooks/\")\n",
    "!pwd"
   ]
  },
  {
   "cell_type": "markdown",
   "metadata": {
    "id": "nTATb9-ecDaN"
   },
   "source": [
    "# Quantifying goodness of fit BONUS notebook: The Kolmogorov-Smirnov goodness of fit test\n",
    "\n"
   ]
  },
  {
   "cell_type": "markdown",
   "metadata": {
    "id": "_INa8NsAcPjE"
   },
   "source": [
    "In this notebook, we've focused on the $\\chi^2$ test statistic. But this test is only truly useful for categorical data (i.e. datasets of counts or frequencies). For histogram-based analyses, the number of \"categories\" could maybe be considered equal to the number of binsm, but it might be easier to work with normalized histograms anyways. Then the $\\chi^2$ test statistic might fail to gauge goodness-of-fit for a given model.\n",
    "\n",
    "A useful goodness-of-fit procedure for histogram-based analyses is the *Kolmogorov-Smirnov* test.\n",
    "\n",
    "Consider a data sample of size $n$ with a probability distribution $p_n(x)$ (in other words, the normalized histogram) and a cumulative distribution function (CDF) $F_n(x)$. Let's say that you want to test whether the data can be well-modeled by the probability distribution $p_0(x)$ with a cumulative distribution function $F_0(x)$.\n",
    "\n",
    "$$D_n = \\max_x |F_n(x) - F_0(x)|.$$\n",
    "\n",
    "In essense, we're calculating the largest difference between the CDFs of the data and the postulated model. (Try to prove to yourself that for a model that perfectly fits the data, $D_n = 0$.)\n",
    "\n",
    "Each $n$ and $\\alpha$ ($p$-value) pairing is associated with a critical test statistic $d_{n, \\alpha}$. You can find these in a [lookup table](https://www.real-statistics.com/statistics-tables/two-sample-kolmogorov-smirnov-table/). If $D_n > d_{n, \\alpha}$, then the null hypothesis must be rejected at the given confidence level. "
   ]
  },
  {
   "cell_type": "markdown",
   "metadata": {
    "id": "xiBOQmNjcdt4"
   },
   "source": [
    "*Note*: the Kolmogorov-Smirnov test is defined for *unbinned* data with a continuous CDF. Here, we're asking you to run the test on Poisson-distributed data, which is discrete (as you can only measure an integer number of counts). So take this example with a grain of salt. In writing code to do a pseudo- Kolmogorov-Smirnov test, you'll gain conceptual understanding in what the test actually measures. But you won't be able to meaningfully accept of reject the null hypothesis. \n",
    "\n"
   ]
  },
  {
   "cell_type": "markdown",
   "metadata": {
    "id": "xwxo_msocerJ"
   },
   "source": [
    "**Activity**: write code to run a *binned* Kolmogorov-Smirnov test on the (1) gaussian and (2) poisson fit to data. Plot CDFs of the two fits and the actual data on the same plot. For each fit, print out the test statistic $D_n$ and its bin location."
   ]
  },
  {
   "cell_type": "code",
   "execution_count": 2,
   "metadata": {
    "id": "metZbNM2cdHx"
   },
   "outputs": [],
   "source": [
    "def KS_test(pdf_1, pdf_2):\n",
    "\n",
    "  # Your code here\n",
    "  return "
   ]
  },
  {
   "cell_type": "markdown",
   "metadata": {
    "id": "iT-oRNepci8_"
   },
   "source": [
    "The relevant built-in function for the Kolmogorov-Smirnoff test is ```scipy.stats.kstest()```. \n",
    "\n",
    "The function takes three main arguments: \n",
    "\n",
    "1. ```x```: a ```np.array``` (or ```list```)  containing the raw observed data. Note that is NOT the histogrammed data. \n",
    "2. ```cdf```: this is usually a string describing the random variable of the model that you want to fit. If you wanted to fit a Gaussian distribution, you could use the string ```\"norm\"```.\n",
    "3. ```args```: parameters of the model. For a Gaussian distribution, this would be ```(mu, sigma)```.\n",
    "\n",
    "The function returns the test statistic $D_n$ and the associated $p$-value. \n",
    "\n",
    "You can read more about the function [here](https://docs.scipy.org/doc/scipy/reference/generated/scipy.stats.kstest.html#scipy.stats.kstest).\n",
    "\n",
    "---"
   ]
  },
  {
   "cell_type": "markdown",
   "metadata": {
    "id": "3R-GbVHscoY4"
   },
   "source": [
    "Another common application of the Kolmogorov-Smirnoff test is to compare two distributions to determine if they came from the same underlying model, as opposed to comparing a single distribution to a model. Then you might want to use the function ```scipy.stats.ks_2samp()```.\n",
    "\n",
    "\n",
    "The function takes two main arguments: \n",
    "\n",
    "1. ```data_1```: a ```np.array``` (or ```list```)  containing the raw observed data of sample 1. Note that is NOT the histogrammed data. \n",
    "2. ```data_2```: a ```np.array``` (or ```list```)  containing the raw observed data of sample 2.\n",
    "\n",
    "\n",
    "The function returns the test statistic $D_n$ and the associated $p$-value. \n",
    "\n",
    "\n",
    "You can read more about the function [here](https://docs.scipy.org/doc/scipy/reference/generated/scipy.stats.ks_2samp.html)."
   ]
  },
  {
   "cell_type": "markdown",
   "metadata": {
    "id": "H1qc-jFycuF_"
   },
   "source": [
    "*Move on to notebook 04*"
   ]
  }
 ],
 "metadata": {
  "colab": {
   "collapsed_sections": [],
   "provenance": []
  },
  "kernelspec": {
   "display_name": "Python 3",
   "name": "python3"
  },
  "language_info": {
   "codemirror_mode": {
    "name": "ipython",
    "version": 3
   },
   "file_extension": ".py",
   "mimetype": "text/x-python",
   "name": "python",
   "nbconvert_exporter": "python",
   "pygments_lexer": "ipython3",
   "version": "3.9.6"
  }
 },
 "nbformat": 4,
 "nbformat_minor": 0
}